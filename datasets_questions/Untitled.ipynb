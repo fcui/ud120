{
 "cells": [
  {
   "cell_type": "code",
   "execution_count": 1,
   "metadata": {
    "collapsed": true
   },
   "outputs": [],
   "source": [
    "from __future__ import division"
   ]
  },
  {
   "cell_type": "code",
   "execution_count": 2,
   "metadata": {
    "collapsed": true
   },
   "outputs": [],
   "source": [
    "#!/usr/bin/python\n",
    "\n",
    "\"\"\" \n",
    "    Starter code for exploring the Enron dataset (emails + finances);\n",
    "    loads up the dataset (pickled dict of dicts).\n",
    "\n",
    "    The dataset has the form:\n",
    "    enron_data[\"LASTNAME FIRSTNAME MIDDLEINITIAL\"] = { features_dict }\n",
    "\n",
    "    {features_dict} is a dictionary of features associated with that person.\n",
    "    You should explore features_dict as part of the mini-project,\n",
    "    but here's an example to get you started:\n",
    "\n",
    "    enron_data[\"SKILLING JEFFREY K\"][\"bonus\"] = 5600000\n",
    "    \n",
    "\"\"\"\n",
    "\n",
    "import pickle\n",
    "\n",
    "enron_data = pickle.load(open(\"../final_project/final_project_dataset.pkl\", \"r\"))\n"
   ]
  },
  {
   "cell_type": "code",
   "execution_count": 3,
   "metadata": {},
   "outputs": [
    {
     "data": {
      "text/plain": [
       "146"
      ]
     },
     "execution_count": 3,
     "metadata": {},
     "output_type": "execute_result"
    }
   ],
   "source": [
    "# 安然数据集的大小\n",
    "len(enron_data)"
   ]
  },
  {
   "cell_type": "code",
   "execution_count": 4,
   "metadata": {},
   "outputs": [
    {
     "data": {
      "text/plain": [
       "21"
      ]
     },
     "execution_count": 4,
     "metadata": {},
     "output_type": "execute_result"
    }
   ],
   "source": [
    "# 安然数据集中的特征\n",
    "len(enron_data['ALLEN PHILLIP K'])"
   ]
  },
  {
   "cell_type": "code",
   "execution_count": 5,
   "metadata": {},
   "outputs": [
    {
     "data": {
      "text/plain": [
       "18"
      ]
     },
     "execution_count": 5,
     "metadata": {},
     "output_type": "execute_result"
    }
   ],
   "source": [
    "# 在安然数据中查找 POI\n",
    "poi_count = 0\n",
    "for p in enron_data.values():\n",
    "    if p['poi']:\n",
    "        poi_count += 1\n",
    "poi_count"
   ]
  },
  {
   "cell_type": "code",
   "execution_count": 6,
   "metadata": {},
   "outputs": [
    {
     "data": {
      "text/plain": [
       "35"
      ]
     },
     "execution_count": 6,
     "metadata": {},
     "output_type": "execute_result"
    }
   ],
   "source": [
    "# 存在多少 POI？\n",
    "poi_count = 0\n",
    "with open(\"../final_project/poi_names.txt\") as names_file:\n",
    "    for line in names_file:\n",
    "        if line.startswith('(y)') or line.startswith('(n)') :\n",
    "            poi_count += 1\n",
    "poi_count"
   ]
  },
  {
   "cell_type": "code",
   "execution_count": 7,
   "metadata": {},
   "outputs": [
    {
     "name": "stdout",
     "output_type": "stream",
     "text": [
      "PRENTICE JAMES\n",
      "1095040\n"
     ]
    }
   ],
   "source": [
    "# 查询数据集 1\n",
    "for name, data in enron_data.iteritems():\n",
    "    if 'james' in name.lower() and 'prentice' in name.lower():\n",
    "        print name\n",
    "        print data['total_stock_value']"
   ]
  },
  {
   "cell_type": "code",
   "execution_count": 8,
   "metadata": {},
   "outputs": [
    {
     "name": "stdout",
     "output_type": "stream",
     "text": [
      "COLWELL WESLEY\n",
      "11\n"
     ]
    }
   ],
   "source": [
    "# 查询数据集 2\n",
    "for name, data in enron_data.iteritems():\n",
    "    if 'wesley' in name.lower() and 'colwell' in name.lower():\n",
    "        print name\n",
    "        print data['from_this_person_to_poi']"
   ]
  },
  {
   "cell_type": "code",
   "execution_count": 9,
   "metadata": {},
   "outputs": [
    {
     "name": "stdout",
     "output_type": "stream",
     "text": [
      "SKILLING JEFFREY K\n",
      "19250000\n"
     ]
    }
   ],
   "source": [
    "for name, data in enron_data.iteritems():\n",
    "    if 'jeffrey' in name.lower() and 'skilling' in name.lower():\n",
    "        print name\n",
    "        print data['exercised_stock_options']"
   ]
  },
  {
   "cell_type": "code",
   "execution_count": 10,
   "metadata": {},
   "outputs": [
    {
     "data": {
      "text/plain": [
       "0.0"
      ]
     },
     "execution_count": 10,
     "metadata": {},
     "output_type": "execute_result"
    }
   ],
   "source": [
    "# 缺少的 POI 2\n",
    "nan_count = 0\n",
    "for name, data in enron_data.iteritems():\n",
    "    if data['total_payments'] == 'NaN' and data['poi']:\n",
    "        nan_count += 1\n",
    "nan_count/poi_count\n"
   ]
  },
  {
   "cell_type": "code",
   "execution_count": 11,
   "metadata": {},
   "outputs": [
    {
     "data": {
      "text/plain": [
       "21"
      ]
     },
     "execution_count": 11,
     "metadata": {},
     "output_type": "execute_result"
    }
   ],
   "source": [
    "#  缺少的 POI 4\n",
    "nan_count = 0\n",
    "for name, data in enron_data.iteritems():\n",
    "    if data['total_payments'] == 'NaN':\n",
    "        nan_count += 1\n",
    "nan_count"
   ]
  }
 ],
 "metadata": {
  "kernelspec": {
   "display_name": "Python 2",
   "language": "python",
   "name": "python2"
  },
  "language_info": {
   "codemirror_mode": {
    "name": "ipython",
    "version": 2
   },
   "file_extension": ".py",
   "mimetype": "text/x-python",
   "name": "python",
   "nbconvert_exporter": "python",
   "pygments_lexer": "ipython2",
   "version": "2.7.13"
  }
 },
 "nbformat": 4,
 "nbformat_minor": 2
}
